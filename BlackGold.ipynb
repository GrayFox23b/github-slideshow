{
 "cells": [
  {
   "cell_type": "markdown",
   "metadata": {},
   "source": [
    "# Выбор локации для скважины"
   ]
  },
  {
   "cell_type": "markdown",
   "metadata": {},
   "source": [
    "Допустим, вы работаете в добывающей компании. Нужно решить, где бурить новую скважину.\n",
    "\n",
    "Вам предоставлены пробы нефти в трёх регионах: в каждом 10 000 месторождений, где измерили качество нефти и объём её запасов. Постройте модель машинного обучения, которая поможет определить регион, где добыча принесёт наибольшую прибыль. Проанализируйте возможную прибыль и риски техникой *Bootstrap.*\n",
    "\n",
    "Шаги для выбора локации:\n",
    "\n",
    "- В избранном регионе ищут месторождения, для каждого определяют значения признаков;\n",
    "- Строят модель и оценивают объём запасов;\n",
    "- Выбирают месторождения с самым высокими оценками значений. Количество месторождений зависит от бюджета компании и стоимости разработки одной скважины;\n",
    "- Прибыль равна суммарной прибыли отобранных месторождений."
   ]
  },
  {
   "cell_type": "markdown",
   "metadata": {},
   "source": [
    "## Загрузка и подготовка данных"
   ]
  },
  {
   "cell_type": "code",
   "execution_count": null,
   "metadata": {},
   "outputs": [],
   "source": [
    "#загрузим необходимые библиотеки\n",
    "import pandas as pd\n",
    "import plotly.express as px\n",
    "import numpy as np\n",
    "from scipy import stats as st\n",
    "\n",
    "from sklearn.linear_model import LinearRegression\n",
    "from sklearn.model_selection import train_test_split\n",
    "from sklearn.metrics import mean_squared_error\n",
    "from sklearn.preprocessing import StandardScaler"
   ]
  },
  {
   "cell_type": "code",
   "execution_count": null,
   "metadata": {},
   "outputs": [],
   "source": [
    "#загружаем необходимые датасеты локально или с ЯП\n",
    "try:\n",
    "    geo0 = pd.read_csv('geo_data_0.csv')\n",
    "    geo1 = pd.read_csv('geo_data_1.csv')\n",
    "    geo2 = pd.read_csv('geo_data_2.csv')\n",
    "except:\n",
    "    geo0 = pd.read_csv('/datasets/geo_data_0.csv')\n",
    "    geo1 = pd.read_csv('/datasets/geo_data_1.csv')\n",
    "    geo2 = pd.read_csv('/datasets/geo_data_2.csv')"
   ]
  },
  {
   "cell_type": "code",
   "execution_count": null,
   "metadata": {},
   "outputs": [],
   "source": [
    "#выведем головы таблиц\n",
    "display(geo0.head(), geo1.head(), geo2.head())"
   ]
  },
  {
   "cell_type": "code",
   "execution_count": null,
   "metadata": {},
   "outputs": [],
   "source": [
    "#взглянем на данные таблиц\n",
    "display(geo0.info(), geo1.info(), geo2.info())"
   ]
  },
  {
   "cell_type": "code",
   "execution_count": null,
   "metadata": {},
   "outputs": [],
   "source": [
    "#и посмотрим на статистику по таблицам\n",
    "display(geo0.describe(),geo1.describe(),geo2.describe())"
   ]
  },
  {
   "cell_type": "markdown",
   "metadata": {},
   "source": [
    "Данные выглядят вполне готовыми к моделированию. Пропусков нет. Типы данных подходящие. Столбец с ID скважин нам не пригодится."
   ]
  },
  {
   "cell_type": "code",
   "execution_count": null,
   "metadata": {},
   "outputs": [],
   "source": [
    "#посмотрим на корреляцию фичей и таргета\n",
    "display(geo0.drop('id',axis=1).corr(), geo1.drop('id',axis=1).corr(), geo2.drop('id',axis=1).corr())"
   ]
  },
  {
   "cell_type": "markdown",
   "metadata": {},
   "source": [
    "Фичи друг с другом никак не коррелируют. Зато во втором регионе фича f2 напрямую влияет на количество продукта в скважине."
   ]
  },
  {
   "cell_type": "code",
   "execution_count": null,
   "metadata": {},
   "outputs": [],
   "source": [
    "#выведем матрицу корреляции для второго региона\n",
    "fig = px.scatter_matrix(geo1.drop('id',axis=1))\n",
    "fig.show()"
   ]
  },
  {
   "cell_type": "markdown",
   "metadata": {},
   "source": [
    "Выглядит так, что с данными уже кто-то (или что-то) поработал. f2 максимально приближено к целым значениям: 0, 1, 2, 3, 4, 5, 6 и за каждую 1 ~ 26 едениц продукта. Было бы неплохо уточнить как такое могло получится."
   ]
  },
  {
   "cell_type": "code",
   "execution_count": null,
   "metadata": {},
   "outputs": [],
   "source": [
    "#создадим колонки с номерами регионов в каждом датасете\n",
    "geo0['geo'] = 0\n",
    "geo1['geo'] = 1\n",
    "geo2['geo'] = 2"
   ]
  },
  {
   "cell_type": "code",
   "execution_count": null,
   "metadata": {},
   "outputs": [],
   "source": [
    "#и сложим все наши датасеты в один для возможности применения функции\n",
    "data = pd.concat([geo0, geo1, geo2], ignore_index=True)\n",
    "display(data.info(), data.sample(20))"
   ]
  },
  {
   "cell_type": "markdown",
   "metadata": {},
   "source": [
    "## Обучение и проверка модели"
   ]
  },
  {
   "cell_type": "code",
   "execution_count": null,
   "metadata": {},
   "outputs": [],
   "source": [
    "#запишем в константу наше семя\n",
    "SEED = np.random.RandomState(12345)\n",
    "\n",
    "#создадим таблицу для записи наших предсказаний модели и валидных целей\n",
    "predictions = pd.DataFrame()\n",
    "\n",
    "#создадим функцию, принимающую таблицу и настройки модели\n",
    "def all_pred(df, use_scale=False, use_normalize=False):\n",
    "    #цикл по всем трём регионам\n",
    "    for i in range(0,3):\n",
    "        data_geo = df.loc[df['geo'] == i]\n",
    "        X = data_geo.drop(['id','product','geo'], axis=1)\n",
    "        y = data_geo['product']\n",
    "        X_train, X_valid, y_train, y_valid = train_test_split(X, y, test_size=0.25, random_state=SEED)\n",
    "        if use_scale == True:\n",
    "            scaler = StandardScaler()\n",
    "            X_train = scaler.fit_transform(X_train)\n",
    "            X_valid = scaler.transform(X_valid)\n",
    "        else:\n",
    "            pass\n",
    "        model = LinearRegression(n_jobs=-1, normalize=use_normalize)\n",
    "        model.fit(X_train, y_train)\n",
    "        prediction = model.predict(X_valid)\n",
    "        predictions['geo'+str(i)+'_pred'] = prediction\n",
    "        predictions['geo'+str(i)+'_valid'] = y_valid.reset_index(drop=True)\n",
    "        MSE = mean_squared_error(y_valid, prediction)\n",
    "        RMSE = MSE ** 0.5\n",
    "        print('\\nСредний запас предсказанного сырья по региону {} = составил {:.2f} тыс. баррелей'.format(i,prediction.mean())) \n",
    "        print('RMSE составил {:.2f} тыс. баррелей'.format(RMSE))\n",
    "        \n",
    "        fig = px.histogram(predictions, x=['geo'+str(i)+'_pred', 'geo'+str(i)+'_valid'], marginal='box')\n",
    "        fig.show()\n",
    "    return predictions"
   ]
  },
  {
   "cell_type": "code",
   "execution_count": null,
   "metadata": {
    "scrolled": true
   },
   "outputs": [],
   "source": [
    "#применим функцию к нашей общей таблице без масштабирования и нормализации\n",
    "all_pred(data)"
   ]
  },
  {
   "cell_type": "markdown",
   "metadata": {},
   "source": [
    "Как мы видим модель отлично отработала во втором регионе, где RMSE меньше 1 тыс баррелей. А вот в первом и третьем регионе RMSE составил почти 40 тыс при средних 90 тыс."
   ]
  },
  {
   "cell_type": "code",
   "execution_count": null,
   "metadata": {
    "scrolled": true
   },
   "outputs": [],
   "source": [
    "#попробуем запустить модель с масштабированием и нормализацией\n",
    "all_pred(data, True, True)"
   ]
  },
  {
   "cell_type": "markdown",
   "metadata": {},
   "source": [
    "Лучше не стало. Второй регион выглядит куда более предсказуемым для нашей модели и соотвественно риски там должны быть ниже."
   ]
  },
  {
   "cell_type": "markdown",
   "metadata": {},
   "source": [
    "## Подготовка к расчёту прибыли"
   ]
  },
  {
   "cell_type": "code",
   "execution_count": null,
   "metadata": {},
   "outputs": [],
   "source": [
    "#посчитаем сколько необходимо выработать с одной скважины в среднем при условии бюджета в 10 млрд рублей и возвожности разработать только 200 из всех\n",
    "1.0e+7 / 200 / 450"
   ]
  },
  {
   "cell_type": "code",
   "execution_count": null,
   "metadata": {},
   "outputs": [],
   "source": [
    "#сохраним данные нашей новой таблицы в отдельные переменные\n",
    "geo0_pred = predictions['geo0_pred']\n",
    "geo0_valid = predictions['geo0_valid']\n",
    "geo1_pred = predictions['geo1_pred']\n",
    "geo1_valid = predictions['geo1_valid']\n",
    "geo2_pred = predictions['geo2_pred']\n",
    "geo2_valid = predictions['geo2_valid']"
   ]
  },
  {
   "cell_type": "code",
   "execution_count": null,
   "metadata": {},
   "outputs": [],
   "source": [
    "#выведем среднее по каждому региону\n",
    "display(geo0_valid.mean(), geo1_valid.mean(), geo2_valid.mean())"
   ]
  },
  {
   "cell_type": "markdown",
   "metadata": {},
   "source": [
    "Ни в одном регионе средние значения не дотягивают до 111 тыс баррелей."
   ]
  },
  {
   "cell_type": "code",
   "execution_count": null,
   "metadata": {},
   "outputs": [],
   "source": [
    "#посмотрим чисто ради интереса, какие средние значения были бы, если бы мы точно знали какие 200 скважин принесут нам больше всего продукта\n",
    "display(geo0_valid.sort_values(ascending=False).head(200).mean(), geo1_valid.sort_values(ascending=False).head(200).mean(), geo2_valid.sort_values(ascending=False).head(200).mean())"
   ]
  },
  {
   "cell_type": "markdown",
   "metadata": {},
   "source": [
    "Почти ровно вдвое больше и мы были бы в плюсе в любом регионе."
   ]
  },
  {
   "cell_type": "code",
   "execution_count": null,
   "metadata": {},
   "outputs": [],
   "source": [
    "#запишем константы для расчёта прибыли в тысячах рублей\n",
    "PRICE_PER_PRODUCT = 450\n",
    "BUDGET = 10000000"
   ]
  },
  {
   "cell_type": "code",
   "execution_count": null,
   "metadata": {},
   "outputs": [],
   "source": [
    "#запишем функцию для расчёта прибыли\n",
    "def profit(target, probabilities, count):\n",
    "    probs_sorted = probabilities.sort_values(ascending=False)\n",
    "    selected = target[probs_sorted.index][:count]\n",
    "    revenue =  PRICE_PER_PRODUCT * selected.sum()\n",
    "    return revenue - BUDGET"
   ]
  },
  {
   "cell_type": "markdown",
   "metadata": {},
   "source": [
    "Проверим выводы для каждого региона из расчёта того, что выбираем мы лучшие предсказанные, а значения берём настоящие."
   ]
  },
  {
   "cell_type": "code",
   "execution_count": null,
   "metadata": {},
   "outputs": [],
   "source": [
    "profit(geo0_valid, geo0_pred, 200)"
   ]
  },
  {
   "cell_type": "code",
   "execution_count": null,
   "metadata": {},
   "outputs": [],
   "source": [
    "profit(geo1_valid, geo1_pred, 200)"
   ]
  },
  {
   "cell_type": "code",
   "execution_count": null,
   "metadata": {},
   "outputs": [],
   "source": [
    "profit(geo2_valid, geo2_pred, 200)"
   ]
  },
  {
   "cell_type": "markdown",
   "metadata": {},
   "source": [
    "Выглядит аппетитно. Посмотрим так ли оно на самом деле и оценим риски уйти в минус."
   ]
  },
  {
   "cell_type": "markdown",
   "metadata": {},
   "source": [
    "## Расчёт прибыли и рисков "
   ]
  },
  {
   "cell_type": "code",
   "execution_count": null,
   "metadata": {},
   "outputs": [],
   "source": [
    "#создадим функцию для использвния технологии bootstrap при условии что мы можем рассмотреть только 500 скважим и выбрать из них 200 лучших\n",
    "def bootstrap(target, probabilities):\n",
    "    values = []\n",
    "    for i in range(1000):\n",
    "        target_subsample = target.sample(n=500, replace=True, random_state=SEED)\n",
    "        probs_subsample = probabilities[target_subsample.index]\n",
    "        values.append(profit(target_subsample, probs_subsample, 200))\n",
    "\n",
    "    values = pd.Series(values)\n",
    "    lower = values.quantile(0.025)\n",
    "    higher = values.quantile(0.975)\n",
    "    mean = values.mean()\n",
    "    risk = st.percentileofscore(values, 0)\n",
    "    \n",
    "    print(\"Средняя выручка: {:2f} тыс. рублей\".format(mean))\n",
    "    print(\"2.5%-квантиль: {:2f} тыс. рублей\".format(lower))\n",
    "    print(\"97.5%-квантиль: {:2f} тыс. рублей\".format(higher))\n",
    "    print(\"Риск убытка в регионе\", risk)"
   ]
  },
  {
   "cell_type": "markdown",
   "metadata": {},
   "source": [
    "Выведем значения для каждого региона."
   ]
  },
  {
   "cell_type": "code",
   "execution_count": null,
   "metadata": {},
   "outputs": [],
   "source": [
    "bootstrap(geo0_valid, geo0_pred)"
   ]
  },
  {
   "cell_type": "code",
   "execution_count": null,
   "metadata": {},
   "outputs": [],
   "source": [
    "bootstrap(geo1_valid, geo1_pred)"
   ]
  },
  {
   "cell_type": "code",
   "execution_count": null,
   "metadata": {},
   "outputs": [],
   "source": [
    "bootstrap(geo2_valid, geo2_pred)"
   ]
  },
  {
   "cell_type": "markdown",
   "metadata": {},
   "source": [
    "# Вывод"
   ]
  },
  {
   "cell_type": "markdown",
   "metadata": {},
   "source": [
    "Как мы видим, в первом и третьем регионах риски выше 5% стать убыточными, что не подходит нам по условию задачи (не более 2.5%). Во втором же регионе риск составляет 0.2% и 97.5% того, что прибыль будет ~ 163 млн рублей. Модель смогла нам максимально точно в этом регионе предсказать какие скважины дадут нам больше сырья. Всё это связано с корреляцией почти в 1 с фичей f2, которая так точно подсказала модели \"где нужно копать\"."
   ]
  },
  {
   "cell_type": "code",
   "execution_count": null,
   "metadata": {},
   "outputs": [],
   "source": []
  }
 ],
 "metadata": {
  "kernelspec": {
   "display_name": "Python 3",
   "language": "python",
   "name": "python3"
  },
  "language_info": {
   "codemirror_mode": {
    "name": "ipython",
    "version": 3
   },
   "file_extension": ".py",
   "mimetype": "text/x-python",
   "name": "python",
   "nbconvert_exporter": "python",
   "pygments_lexer": "ipython3",
   "version": "3.8.5"
  },
  "toc": {
   "base_numbering": 1,
   "nav_menu": {},
   "number_sections": true,
   "sideBar": true,
   "skip_h1_title": true,
   "title_cell": "Table of Contents",
   "title_sidebar": "Contents",
   "toc_cell": false,
   "toc_position": {},
   "toc_section_display": true,
   "toc_window_display": false
  }
 },
 "nbformat": 4,
 "nbformat_minor": 4
}
